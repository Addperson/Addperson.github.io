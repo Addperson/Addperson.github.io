{
 "cells": [
  {
   "cell_type": "markdown",
   "metadata": {},
   "source": [
    "---\n",
    "title: python知识点\n",
    "date: 2019-06-28 18:02:39\n",
    "tags:\n",
    "---\n",
    "\n",
    "###### 引用，深拷贝与浅拷贝\n",
    "\n",
    "1、b = a: 赋值引用，a 和 b 都指向同一个对象。\n",
    "\n",
    "![](python知识点/copy1.png)\n",
    "\n",
    "2、b = a.copy(): 浅拷贝, a 和 b 是一个独立的对象，但他们的子对象还是指向统一对象（是引用）。\n",
    "\n",
    "![](python知识点/copy2.png)\n",
    "\n",
    "b = copy.deepcopy(a): 深度拷贝, a 和 b 完全拷贝了父对象及其子对象，两者是完全独立的。\n",
    "\n",
    "![](python知识点/copy3.png)\n"
   ]
  },
  {
   "cell_type": "code",
   "execution_count": 11,
   "metadata": {},
   "outputs": [
    {
     "name": "stdout",
     "output_type": "stream",
     "text": [
      "{'1': [1, 1, 2], '2': [2, 2]}\n"
     ]
    }
   ],
   "source": [
    "kvps = { '1' : [1,1], '2' : [2,2] }\n",
    "theCopy = kvps.copy()\n",
    "kvps['1'].append(2)\n",
    "print(theCopy)    #拷贝所有父对象，子对象共有，所以改变子对象两个都改变。"
   ]
  },
  {
   "cell_type": "code",
   "execution_count": 12,
   "metadata": {},
   "outputs": [
    {
     "name": "stdout",
     "output_type": "stream",
     "text": [
      "{'1': 1, '2': 2}\n"
     ]
    }
   ],
   "source": [
    "kvps = { '1' : 1, '2' : 2 }\n",
    "theCopy = kvps.copy()\n",
    "kvps['1'] = 5\n",
    "print(theCopy)    #拷贝所有父对象，改变一个不影响其他。"
   ]
  },
  {
   "cell_type": "code",
   "execution_count": 13,
   "metadata": {},
   "outputs": [
    {
     "name": "stdout",
     "output_type": "stream",
     "text": [
      "{'1': [1, 1], '2': [2, 2]}\n"
     ]
    }
   ],
   "source": [
    "kvps = { '1' : [1,1], '2' : [2,2] }\n",
    "theCopy = kvps.copy()\n",
    "kvps['1'] = [3,3]\n",
    "print(theCopy)    #拷贝所有父对象，子对象共有，但第一个重新指向新列表，改变第一个，第二个不变。"
   ]
  },
  {
   "cell_type": "code",
   "execution_count": 10,
   "metadata": {},
   "outputs": [
    {
     "name": "stdout",
     "output_type": "stream",
     "text": [
      "a =  [1, 2, 3, 4, ['a', 'b', 'c'], 5]\n",
      "b =  [1, 2, 3, 4, ['a', 'b', 'c'], 5]\n",
      "c =  [1, 2, 3, 4, ['a', 'b', 'c']]\n",
      "d =  [1, 2, 3, 4, ['a', 'b']]\n"
     ]
    }
   ],
   "source": [
    "import copy\n",
    "a = [1, 2, 3, 4, ['a', 'b']] #原始对象\n",
    " \n",
    "b = a                       #赋值，传对象的引用\n",
    "c = copy.copy(a)            #对象拷贝，浅拷贝\n",
    "d = copy.deepcopy(a)        #对象拷贝，深拷贝\n",
    " \n",
    "a.append(5)                 #修改对象a\n",
    "a[4].append('c')            #修改对象a中的['a', 'b']数组对象\n",
    " \n",
    "print( 'a = ', a )\n",
    "print( 'b = ', b )\n",
    "print( 'c = ', c )\n",
    "print( 'd = ', d )"
   ]
  },
  {
   "cell_type": "markdown",
   "metadata": {},
   "source": [
    "\n",
    "###### Python中的对象包含三要素：\n",
    "\n",
    "id、type、value\n",
    "\n",
    "其中id用来唯一标识一个对象，type标识对象的类型，value是对象的值\n",
    "\n",
    "is判断的是a对象是否就是b对象，是通过id来判断的\n",
    "\n",
    "如果a,b为字符串不可变类型，指向相同地址，所以  a is b\n",
    "\n",
    "==判断的是a对象的值是否和b对象的值相等，是通过value来判断的"
   ]
  },
  {
   "cell_type": "code",
   "execution_count": 1,
   "metadata": {},
   "outputs": [],
   "source": [
    "a='123'\n",
    "b='123'"
   ]
  },
  {
   "cell_type": "code",
   "execution_count": 2,
   "metadata": {},
   "outputs": [
    {
     "data": {
      "text/plain": [
       "True"
      ]
     },
     "execution_count": 2,
     "metadata": {},
     "output_type": "execute_result"
    }
   ],
   "source": [
    "a is b"
   ]
  },
  {
   "cell_type": "markdown",
   "metadata": {},
   "source": [
    "###### python中的布尔值\n",
    "\n",
    "下列对象的布尔值都是False：\n",
    "\n",
    "NONE;\n",
    "\n",
    "False(布尔类型)\n",
    "\n",
    "所有的值为零的数\n",
    "\n",
    "       0（整型）\n",
    "\n",
    "       0.0（浮点型）\n",
    "\n",
    "       0L(长整型)\n",
    "\n",
    "       0.0+0.0j(复数)\n",
    "\n",
    "\"\"(空字符串)\n",
    "\n",
    "[](空列表)\n",
    "\n",
    "()(空元组)\n",
    "\n",
    "{}(空字典)"
   ]
  },
  {
   "cell_type": "markdown",
   "metadata": {},
   "source": [
    "###### python中主要存在四种命名方式：\n",
    "\n",
    "1、object #公用方法\n",
    "\n",
    "2、_object #半保护\n",
    "                 #被看作是“protect”，意思是只有类对象和子类对象自己能访问到这些变量，\n",
    "                  在模块或类外不可以使用，不能用’from module import *’导入。\n",
    "                # __object 是为了避免与子类的方法名称冲突， 对于该标识符描述的方法，父\n",
    "                  类的方法不能轻易地被子类的方法覆盖，他们的名字实际上是\n",
    "                  _classname__methodname。\n",
    "                  \n",
    "3、_ _ object  #全私有，全保护\n",
    "                       #私有成员“private”，意思是只有类对象自己能访问，连子类对象也不能访\n",
    "                          问到这个数据，不能用’from module import *’导入。\n",
    "4、_ _ object_ _     #内建方法，用户不要这样定义"
   ]
  }
 ],
 "metadata": {
  "kernelspec": {
   "display_name": "Python 3",
   "language": "python",
   "name": "python3"
  },
  "language_info": {
   "codemirror_mode": {
    "name": "ipython",
    "version": 3
   },
   "file_extension": ".py",
   "mimetype": "text/x-python",
   "name": "python",
   "nbconvert_exporter": "python",
   "pygments_lexer": "ipython3",
   "version": "3.7.3"
  }
 },
 "nbformat": 4,
 "nbformat_minor": 2
}
